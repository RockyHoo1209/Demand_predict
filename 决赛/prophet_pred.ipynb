{
 "cells": [
  {
   "cell_type": "code",
   "execution_count": 1,
   "metadata": {},
   "outputs": [],
   "source": [
    "import warnings\n",
    "import numpy as np\n",
    "import matplotlib.pyplot as plt \n",
    "import pandas as pd\n",
    "import matplotlib.pyplot as plt\n",
    "from sklearn.metrics import mean_squared_error,mean_absolute_error\n",
    "from sklearn.model_selection import train_test_split\n",
    "import tqdm\n",
    "warnings.filterwarnings(\"ignore\")\n",
    "from numpy.random import seed\n",
    "from sklearn.multioutput import MultiOutputRegressor\n",
    "from xgboost.sklearn import XGBClassifier,XGBRegressor\n",
    "from sklearn.metrics import mean_squared_error\n",
    "from prophet import Prophet\n",
    "from chinese_calendar import is_workday, is_holiday"
   ]
  },
  {
   "cell_type": "code",
   "execution_count": 2,
   "metadata": {},
   "outputs": [],
   "source": [
    "test_data=pd.read_csv(\"./data/test_data.csv\")\n",
    "test_data[\"过账日期\"]=pd.to_datetime(test_data[\"过账日期\"])\n",
    "demand_data=pd.read_csv(\"./data/filldate_demand_data.csv\")\n",
    "demand_data[\"过账日期\"]=pd.to_datetime(demand_data[\"过账日期\"])"
   ]
  },
  {
   "cell_type": "code",
   "execution_count": 3,
   "metadata": {},
   "outputs": [],
   "source": [
    "date_index=pd.date_range(\"2018-01-01\",\"2021-02-28\")\n",
    "holidays_list=[]\n",
    "for date in date_index:\n",
    "    if is_holiday(date):\n",
    "        holidays_list.append(date)\n",
    "        \n",
    "holidays = pd.DataFrame({\n",
    "  'holiday' : 'playoff',\n",
    "  'ds' : pd.to_datetime(holidays_list),\n",
    "  'lower_window' : 0,\n",
    "  'upper_window' : 2}\n",
    ")"
   ]
  },
  {
   "cell_type": "code",
   "execution_count": 4,
   "metadata": {},
   "outputs": [
    {
     "name": "stderr",
     "output_type": "stream",
     "text": [
      "100%|██████████| 971/971 [35:19<00:00,  2.18s/it]\n"
     ]
    }
   ],
   "source": [
    "date_df=pd.DataFrame()\n",
    "date_df[\"过账日期\"]=date_index\n",
    "temp_gp=demand_data.sort_values(\"过账日期\").groupby([\"物料编码\",\"工厂编码\"],as_index=False)\n",
    "month_1=[]\n",
    "month_2=[]\n",
    "month_3=[]\n",
    "ans_df=pd.DataFrame()\n",
    "# demand_filldate=pd.DataFrame()\n",
    "for group in tqdm.tqdm(temp_gp.groups):\n",
    "    temp_df=temp_gp.get_group(group)\n",
    "    merged_df=pd.DataFrame()\n",
    "    merged_df[\"过账日期\"]=date_df[\"过账日期\"]\n",
    "    merged_df[\"工厂编码\"]=[list(temp_df[\"工厂编码\"])[0]]*len(merged_df)\n",
    "    merged_df[\"物料编码\"]=[list(temp_df[\"物料编码\"])[0]]*len(merged_df)\n",
    "    merged_df[\"物料品牌\"]=[list(temp_df[\"物料品牌\"])[0]]*len(merged_df)\n",
    "    merged_df[\"物料类型\"]=[list(temp_df[\"物料类型\"])[0]]*len(merged_df)\n",
    "    merged_df[\"物料品类\"]=[list(temp_df[\"物料品类\"])[0]]*len(merged_df)\n",
    "    merged_df=pd.merge(merged_df,temp_df,how=\"left\").fillna(0)\n",
    "    m = Prophet(yearly_seasonality=True, weekly_seasonality=True, daily_seasonality=True,holidays=holidays)\n",
    "    prophet_df=merged_df[['过账日期','需求量']]\n",
    "    prophet_df.columns=[\"ds\",\"y\"]\n",
    "    m.fit(prophet_df)\n",
    "    future = m.make_future_dataframe(periods=90, include_history=False)\n",
    "    forecast = m.predict(future)\n",
    "    temp_ans_df=pd.DataFrame()\n",
    "    temp_ans_df[\"工厂编码\"]=[list(temp_df[\"工厂编码\"])[0]]\n",
    "    temp_ans_df[\"物料编码\"]=[list(temp_df[\"物料编码\"])[0]]\n",
    "    temp_ans_df[\"M+1月预测需求量\"]=[max(0,forecast[\"yhat\"][0:30].sum())]\n",
    "    temp_ans_df[\"M+2月预测需求量\"]=[max(0,forecast[\"yhat\"][30:60].sum())]\n",
    "    temp_ans_df[\"M+3月预测需求量\"]=[max(0,forecast[\"yhat\"][60:90].sum())]\n",
    "    ans_df=ans_df.append(temp_ans_df)"
   ]
  },
  {
   "cell_type": "code",
   "execution_count": 16,
   "metadata": {},
   "outputs": [],
   "source": [
    "ans_col=test_data[[\"工厂编码\",\"物料编码\"]].drop_duplicates ()"
   ]
  },
  {
   "cell_type": "code",
   "execution_count": 18,
   "metadata": {},
   "outputs": [],
   "source": [
    "pd.merge(ans_col,ans_df,how=\"left\").to_csv(\"./result/11_19_prophet.csv\",index=False)"
   ]
  },
  {
   "cell_type": "code",
   "execution_count": null,
   "metadata": {},
   "outputs": [],
   "source": []
  }
 ],
 "metadata": {
  "kernelspec": {
   "display_name": "Python 3",
   "language": "python",
   "name": "python3"
  },
  "language_info": {
   "codemirror_mode": {
    "name": "ipython",
    "version": 3
   },
   "file_extension": ".py",
   "mimetype": "text/x-python",
   "name": "python",
   "nbconvert_exporter": "python",
   "pygments_lexer": "ipython3",
   "version": "3.6.5"
  }
 },
 "nbformat": 4,
 "nbformat_minor": 4
}
